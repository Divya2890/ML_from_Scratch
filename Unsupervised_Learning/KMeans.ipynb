{
  "nbformat": 4,
  "nbformat_minor": 0,
  "metadata": {
    "colab": {
      "provenance": []
    },
    "kernelspec": {
      "name": "python3",
      "display_name": "Python 3"
    },
    "language_info": {
      "name": "python"
    }
  },
  "cells": [
    {
      "cell_type": "code",
      "source": [
        "import pandas as pd\n",
        "import numpy as np\n",
        "from sklearn.preprocessing import OneHotEncoder\n",
        "from sklearn.metrics import accuracy_score, classification_report, confusion_matrix\n",
        "from sklearn.model_selection import train_test_split\n",
        "from sklearn import datasets\n",
        "from sklearn.cluster import KMeans"
      ],
      "metadata": {
        "id": "mP-0pYSeyFEY"
      },
      "execution_count": 26,
      "outputs": []
    },
    {
      "cell_type": "code",
      "execution_count": 27,
      "metadata": {
        "id": "37BMvGGjx9Hv"
      },
      "outputs": [],
      "source": [
        "class K_Means:\n",
        "  def __init__(self,n_clusters = 3,max_iter=100):\n",
        "    self.n_clusters = n_clusters\n",
        "    self.max_iter = max_iter\n",
        "\n",
        "  def euclidean_distance(self,x1, x2):\n",
        "    return np.sqrt(np.sum((x2-x1)**2))\n",
        "\n",
        "  def list_equal(self, l1,l2):\n",
        "    for i in l1:\n",
        "      if i not in l2:\n",
        "        return False\n",
        "    return True\n",
        "\n",
        "  def fit(self, x):\n",
        "    cluster = [[] for _ in range(self.n_clusters)]\n",
        "    #cluster = [[]]* self.n_clusters. Note : cannot use this as it creates the list with same refereces and hence updating one updates all using the append function\n",
        "    print(\"inital points in the clusters\",cluster)\n",
        "    # select random k points from the x_train and assign them as my inital centroids for the  the k clusters\n",
        "\n",
        "    initial_centroid_ids =np.random.choice([i for i in range(x.shape[0])],size=self.n_clusters, replace=False)\n",
        "    initial_centroids = [x[id] for id in initial_centroid_ids]\n",
        "\n",
        "    for i in range(self.max_iter):\n",
        "      for idx, row in enumerate(x):\n",
        "        # distance of each point to all the cluster centroid inorder to decide to which cluster it belongs to\n",
        "        distance = [self.euclidean_distance(row,each_centroid) for each_centroid in initial_centroids]\n",
        "        cluster_id = np.argmin(distance)\n",
        "        # Assign the point to that cluster\n",
        "\n",
        "        cluster[cluster_id].append(idx)\n",
        "      # update the centroid\n",
        "\n",
        "      centroid_ids = [np.mean(x[cluster[i]],axis = 0) for i in range(self.n_clusters)]\n",
        "\n",
        "      converge_cond = [self.euclidean_distance(centroid_ids[i], initial_centroids[i]) for i in range(self.n_clusters)]\n",
        "      if sum(converge_cond)==0:\n",
        "        self.final_centroids = centroid_ids\n",
        "        break\n",
        "      else:\n",
        "        initial_centroids = centroid_ids\n",
        "\n",
        "\n",
        "    self.final_centroids = centroid_ids\n",
        "\n",
        "\n",
        "  def predict(self, x):\n",
        "    predictions = []\n",
        "    for row in x:\n",
        "      distances = [self.euclidean_distance(row,each_cluster) for each_cluster in self.final_centroids]\n",
        "      predictions.append(np.argsort(distances)[0])\n",
        "    return predictions\n",
        "\n"
      ]
    },
    {
      "cell_type": "code",
      "source": [
        "iris = datasets.load_iris()\n",
        "x,y = iris.data,iris.target\n",
        "x_train, x_test, y_train, y_test = train_test_split(x,y, test_size=0.3,random_state = 43)\n",
        "model = K_Means()\n",
        "model.fit(x_train)\n",
        "predictions = model.predict(x_test)\n",
        "print(\"predictions\",predictions)\n",
        "print(\"accuracy score\", accuracy_score(predictions,y_test))"
      ],
      "metadata": {
        "id": "0nGpQj7-yDbW",
        "colab": {
          "base_uri": "https://localhost:8080/"
        },
        "outputId": "c2ef9551-9d74-4dc2-c40e-97060c103c4d"
      },
      "execution_count": 34,
      "outputs": [
        {
          "output_type": "stream",
          "name": "stdout",
          "text": [
            "inital points in the clusters [[], [], []]\n",
            "predictions [0, 0, 1, 1, 2, 0, 1, 1, 1, 1, 0, 1, 2, 0, 1, 1, 0, 0, 1, 2, 0, 0, 0, 1, 1, 2, 0, 1, 0, 0, 1, 0, 1, 1, 2, 2, 1, 2, 1, 1, 1, 1, 1, 2, 0]\n",
            "accuracy score 0.8444444444444444\n"
          ]
        }
      ]
    },
    {
      "cell_type": "markdown",
      "source": [
        "# Using Sklearn KMeans for classification"
      ],
      "metadata": {
        "id": "LtlJ1RtNn4Uu"
      }
    },
    {
      "cell_type": "code",
      "source": [
        "sklearn_model = KMeans(n_clusters = 3,max_iter = 100)\n",
        "sklearn_model.fit(x_train)\n",
        "sk_predictions = sklearn_model.predict(x_test)\n",
        "print(\"predictions\",sk_predictions)\n",
        "print(\"accuracy score\", accuracy_score(sk_predictions,y_test))"
      ],
      "metadata": {
        "colab": {
          "base_uri": "https://localhost:8080/"
        },
        "id": "CuAqDqOJl4Bl",
        "outputId": "083a9a45-3fe5-4f14-e104-02636f43796c"
      },
      "execution_count": 37,
      "outputs": [
        {
          "output_type": "stream",
          "name": "stdout",
          "text": [
            "predictions [0 0 1 1 2 0 1 1 1 1 0 1 2 0 1 1 0 0 1 2 0 0 0 2 1 2 0 1 0 0 1 0 1 1 2 2 1\n",
            " 2 1 1 1 1 1 2 0]\n",
            "accuracy score 0.8666666666666667\n"
          ]
        },
        {
          "output_type": "stream",
          "name": "stderr",
          "text": [
            "/usr/local/lib/python3.10/dist-packages/sklearn/cluster/_kmeans.py:1416: FutureWarning: The default value of `n_init` will change from 10 to 'auto' in 1.4. Set the value of `n_init` explicitly to suppress the warning\n",
            "  super()._check_params_vs_input(X, default_n_init=10)\n"
          ]
        }
      ]
    }
  ]
}